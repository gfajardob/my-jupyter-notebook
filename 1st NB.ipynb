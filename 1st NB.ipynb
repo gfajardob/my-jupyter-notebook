{
 "cells": [
  {
   "cell_type": "markdown",
   "metadata": {},
   "source": [
    "# Week 10 and 11 Assignment - Programming Fundamentals NB"
   ]
  },
  {
   "cell_type": "markdown",
   "metadata": {},
   "source": [
    "## Final project\n",
    "\n",
    "Our project, for now titled History Helper, hopes to provide visitors to Philadelphia's historical sites with supplementary information that is not available at the sites themselves. This information will hopefully include primary and secondary text sources such as newspaper articles, biographies, and pamphlets. Additionally, this project will collect simple demographic data about its users for the City of Philadelphia and the Philadelphia Historical Commission to keep track of its audience."
   ]
  },
  {
   "cell_type": "markdown",
   "metadata": {},
   "source": [
    "## Week 11 - Practice API \n"
   ]
  },
  {
   "cell_type": "markdown",
   "metadata": {},
   "source": [
    "I'm strugling to find appropiate data for my project. So for this week I'm just going to play around with the weather data in Philadelphia (maybe later we can find a way to integrate it to our project)."
   ]
  },
  {
   "cell_type": "code",
   "execution_count": 11,
   "metadata": {},
   "outputs": [
    {
     "name": "stderr",
     "output_type": "stream",
     "text": [
      "2738.97s - pydevd: Sending message related to process being replaced timed-out after 5 seconds\n"
     ]
    },
    {
     "name": "stdout",
     "output_type": "stream",
     "text": [
      "Requirement already satisfied: requests in /Library/Frameworks/Python.framework/Versions/3.12/lib/python3.12/site-packages (2.32.3)\n",
      "Requirement already satisfied: charset-normalizer<4,>=2 in /Library/Frameworks/Python.framework/Versions/3.12/lib/python3.12/site-packages (from requests) (3.4.0)\n",
      "Requirement already satisfied: idna<4,>=2.5 in /Library/Frameworks/Python.framework/Versions/3.12/lib/python3.12/site-packages (from requests) (3.10)\n",
      "Requirement already satisfied: urllib3<3,>=1.21.1 in /Library/Frameworks/Python.framework/Versions/3.12/lib/python3.12/site-packages (from requests) (2.2.3)\n",
      "Requirement already satisfied: certifi>=2017.4.17 in /Library/Frameworks/Python.framework/Versions/3.12/lib/python3.12/site-packages (from requests) (2024.8.30)\n",
      "Current Weather in Philadelphia:\n",
      "{'time': '2024-11-19T04:45', 'interval': 900, 'temperature': 8.8, 'windspeed': 9.5, 'winddirection': 323, 'is_day': 0, 'weathercode': 0}\n"
     ]
    }
   ],
   "source": [
    "# install requests\n",
    "!pip install requests\n",
    "\n",
    "import requests\n",
    "\n",
    "# Define the API endpoint and parameters\n",
    "url = 'https://api.open-meteo.com/v1/forecast'\n",
    "params = {\n",
    "    'latitude': 39.9526,  # Latitude for Philadelphia\n",
    "    'longitude': -75.1652,  # Longitude for Philadelphia\n",
    "    'current_weather': True  # Request current weather\n",
    "}\n",
    "\n",
    "# Request API\n",
    "response = requests.get(url, params=params)\n",
    "\n",
    "# Check for request \n",
    "if response.status_code == 200:\n",
    "    data = response.json()  # Convert response to JSON\n",
    "    print(\"Current Weather in Philadelphia:\")\n",
    "    print(data['current_weather'])  # Display current weather details\n",
    "else:\n",
    "    print(f\"Error. Status code: {response.status_code}\") # Note to self: 404 code Vivian mentioned in class\n"
   ]
  },
  {
   "cell_type": "code",
   "execution_count": 9,
   "metadata": {},
   "outputs": [
    {
     "name": "stdout",
     "output_type": "stream",
     "text": [
      "\n",
      "Current Weather in Philadelphia:\n",
      "Temperature: 8.8°C\n",
      "Wind Speed: 9.5 km/h\n",
      "Weather Condition: 0 (raw code)\n"
     ]
    }
   ],
   "source": [
    "# Version 2.0\n",
    "\n",
    "# Ask user for location\n",
    "\n",
    "city_name = input(\"Enter the city for which you want the weather: \")\n",
    "\n",
    "# Condition for Philadelphia only\n",
    "\n",
    "if city_name.lower() == \"philadelphia\":\n",
    "    # Coordinates for Philadelphia\n",
    "    latitude = 39.9526\n",
    "    longitude = -75.1652\n",
    "else:\n",
    "    print(\"Currently, only Philadelphia weather can be provided.\")\n",
    "    latitude = 39.9526\n",
    "    longitude = -75.1652\n",
    "\n",
    "# Define the API endpoint and parameters\n",
    "\n",
    "url = 'https://api.open-meteo.com/v1/forecast'\n",
    "params = {\n",
    "    'latitude': latitude,\n",
    "    'longitude': longitude,\n",
    "    'current_weather': True\n",
    "}\n",
    "\n",
    "# API request\n",
    " \n",
    "response = requests.get(url, params=params)\n",
    "\n",
    "# Check for request\n",
    "\n",
    "if response.status_code == 200:\n",
    "    data = response.json()  # Convert response to JSON\n",
    "    print(\"\\nCurrent Weather in Philadelphia:\")\n",
    "    current_weather = data['current_weather']\n",
    "    print(f\"Temperature: {current_weather['temperature']}°C\")\n",
    "    print(f\"Wind Speed: {current_weather['windspeed']} km/h\")\n",
    "    print(f\"Weather Condition: {current_weather['weathercode']} (raw code)\")\n",
    "else:\n",
    "    print(f\"Error. Status code: {response.status_code}\")  # Note to self: 404 code Vivian mentioned in class"
   ]
  },
  {
   "cell_type": "markdown",
   "metadata": {},
   "source": [
    "I'll be trying to make a graph with matplotlib now. "
   ]
  },
  {
   "cell_type": "code",
   "execution_count": 12,
   "metadata": {},
   "outputs": [
    {
     "name": "stdout",
     "output_type": "stream",
     "text": [
      "\n",
      "Current Weather in Philadelphia:\n",
      "Temperature: 8.8°C\n",
      "Wind Speed: 9.5 km/h\n",
      "Weather Condition: 0 (raw code)\n"
     ]
    },
    {
     "data": {
      "image/png": "[encoded data removed]",
      "text/plain": [
       "<Figure size 640x480 with 1 Axes>"
      ]
     },
     "metadata": {},
     "output_type": "display_data"
    }
   ],
   "source": [
    "import requests\n",
    "import matplotlib.pyplot as plt\n",
    "\n",
    "# Ask user for location\n",
    "city_name = input(\"Enter the city for which you want the weather: \")\n",
    "\n",
    "# Condition for Philadelphia only\n",
    "if city_name.lower() == \"philadelphia\":\n",
    "    # Coordinates for Philadelphia\n",
    "    latitude = 39.9526\n",
    "    longitude = -75.1652\n",
    "else:\n",
    "    print(\"Currently, only Philadelphia weather can be provided\")\n",
    "    latitude = 39.9526\n",
    "    longitude = -75.1652\n",
    "\n",
    "# Define the API endpoint and parameters\n",
    "url = 'https://api.open-meteo.com/v1/forecast'\n",
    "params = {\n",
    "    'latitude': latitude,\n",
    "    'longitude': longitude,\n",
    "    'current_weather': True\n",
    "}\n",
    "\n",
    "# API request\n",
    "response = requests.get(url, params=params)\n",
    "\n",
    "# Check for request\n",
    "if response.status_code == 200:\n",
    "    data = response.json()  # Convert response to JSON\n",
    "    print(\"\\nCurrent Weather in Philadelphia:\")\n",
    "    current_weather = data['current_weather']\n",
    "    temperature = current_weather['temperature']\n",
    "    wind_speed = current_weather['windspeed']\n",
    "    weather_code = current_weather['weathercode']\n",
    "    print(f\"Temperature: {temperature}°C\")\n",
    "    print(f\"Wind Speed: {wind_speed} km/h\")\n",
    "    print(f\"Weather Condition: {weather_code} (raw code)\")\n",
    "\n",
    "    # Create a bar chart\n",
    "    labels = ['Temperature (°C)', 'Wind Speed (km/h)']\n",
    "    values = [temperature, wind_speed]\n",
    "\n",
    "    plt.bar(labels, values, color=['black', 'green'])\n",
    "\n",
    "    # Add title and labels to the graph\n",
    "    plt.title(f\"Current Weather in Philadelphia\")\n",
    "    plt.xlabel('Weather Parameters')\n",
    "    plt.ylabel('Values')\n",
    "    plt.show()\n",
    "\n",
    "else:\n",
    "    print(f\"Error. Status code: {response.status_code}\")  # Note to self: 404 code Vivian mentioned in class\n"
   ]
  },
  {
   "cell_type": "markdown",
   "metadata": {},
   "source": [
    "## Sentiment Analysis - Week 12\n",
    "\n"
   ]
  },
  {
   "cell_type": "code",
   "execution_count": 2,
   "metadata": {},
   "outputs": [
    {
     "name": "stderr",
     "output_type": "stream",
     "text": [
      "2415.51s - pydevd: Sending message related to process being replaced timed-out after 5 seconds\n"
     ]
    },
    {
     "name": "stdout",
     "output_type": "stream",
     "text": [
      "Requirement already satisfied: nltk in /Library/Frameworks/Python.framework/Versions/3.12/lib/python3.12/site-packages (3.9.1)\n",
      "Requirement already satisfied: pandas in /Library/Frameworks/Python.framework/Versions/3.12/lib/python3.12/site-packages (2.2.3)\n",
      "Requirement already satisfied: click in /Library/Frameworks/Python.framework/Versions/3.12/lib/python3.12/site-packages (from nltk) (8.1.7)\n",
      "Requirement already satisfied: joblib in /Library/Frameworks/Python.framework/Versions/3.12/lib/python3.12/site-packages (from nltk) (1.4.2)\n",
      "Requirement already satisfied: regex>=2021.8.3 in /Library/Frameworks/Python.framework/Versions/3.12/lib/python3.12/site-packages (from nltk) (2024.11.6)\n",
      "Requirement already satisfied: tqdm in /Library/Frameworks/Python.framework/Versions/3.12/lib/python3.12/site-packages (from nltk) (4.67.1)\n",
      "Requirement already satisfied: numpy>=1.26.0 in /Library/Frameworks/Python.framework/Versions/3.12/lib/python3.12/site-packages (from pandas) (2.1.2)\n",
      "Requirement already satisfied: python-dateutil>=2.8.2 in /Library/Frameworks/Python.framework/Versions/3.12/lib/python3.12/site-packages (from pandas) (2.9.0.post0)\n",
      "Requirement already satisfied: pytz>=2020.1 in /Library/Frameworks/Python.framework/Versions/3.12/lib/python3.12/site-packages (from pandas) (2024.2)\n",
      "Requirement already satisfied: tzdata>=2022.7 in /Library/Frameworks/Python.framework/Versions/3.12/lib/python3.12/site-packages (from pandas) (2024.2)\n",
      "Requirement already satisfied: six>=1.5 in /Library/Frameworks/Python.framework/Versions/3.12/lib/python3.12/site-packages (from python-dateutil>=2.8.2->pandas) (1.16.0)\n"
     ]
    }
   ],
   "source": [
    "!pip install nltk pandas\n"
   ]
  },
  {
   "cell_type": "code",
   "execution_count": 3,
   "metadata": {},
   "outputs": [
    {
     "name": "stderr",
     "output_type": "stream",
     "text": [
      "[nltk_data] Downloading package vader_lexicon to\n",
      "[nltk_data]     /Users/gabrielafajardobocanegra/nltk_data...\n",
      "[nltk_data] Downloading package punkt to\n",
      "[nltk_data]     /Users/gabrielafajardobocanegra/nltk_data...\n",
      "[nltk_data]   Unzipping tokenizers/punkt.zip.\n"
     ]
    },
    {
     "data": {
      "text/plain": [
       "True"
      ]
     },
     "execution_count": 3,
     "metadata": {},
     "output_type": "execute_result"
    }
   ],
   "source": [
    "import nltk\n",
    "nltk.download('vader_lexicon')\n",
    "nltk.download('punkt')\n"
   ]
  },
  {
   "cell_type": "markdown",
   "metadata": {},
   "source": [
    "Ideally I wanted to browse through comments of different Philadelphia landmarks, but I had a really hard time with my cvs file because I got an error (something about \"default utf-8 encoding,\" and I couldn't fix it). So I entered it manually with help from CB. I decided to go only with one landmark but repeated \"Liberty Bell\" because I don't know how to write the code assuming is only this landmark but leaving open the possibility to add others later. "
   ]
  },
  {
   "cell_type": "markdown",
   "metadata": {},
   "source": [
    "Ideally I wanted to browse through comments of different Philadelphia landmarks, but I had a really hard time with my cvs file because I got an error (something about \"default utf-8 encoding,\" and I couldn't fix it). So I entered it manually with help from CB. "
   ]
  },
  {
   "cell_type": "code",
   "execution_count": 19,
   "metadata": {},
   "outputs": [
    {
     "name": "stdout",
     "output_type": "stream",
     "text": [
      "CSV file 'landmark_comments.csv' created!\n",
      "\n",
      "Landmark Comments Data:\n",
      "       landmark                                            comment\n",
      "0  Liberty Bell  I loved visiting the Liberty Bell. It is free ...\n",
      "1  Liberty Bell  After walking through the short gallery, you w...\n",
      "2  Liberty Bell  The staff was friendly and the process was sea...\n",
      "3  Liberty Bell  One thing to note is that, though, the bell is...\n",
      "4  Liberty Bell  The visit to the Liberty Bell was awesome!! Th...\n",
      "5  Liberty Bell  When I came, it was not super busy during a Th...\n",
      "6  Liberty Bell  I got through security really quickly, and the...\n",
      "7  Liberty Bell  The Liberty Bell is definitely a must-see and ...\n",
      "8  Liberty Bell  Would be better if it was outside. Its a liter...\n",
      "9  Liberty Bell  Some history about the Bell. You can also see ...\n",
      "\n",
      "Sentiment Analysis Results:\n",
      "       landmark                                            comment  sentiment\n",
      "0  Liberty Bell  I loved visiting the Liberty Bell. It is free ...     0.9432\n",
      "1  Liberty Bell  After walking through the short gallery, you w...     0.8934\n",
      "2  Liberty Bell  The staff was friendly and the process was sea...     0.4939\n",
      "3  Liberty Bell  One thing to note is that, though, the bell is...     0.7901\n",
      "4  Liberty Bell  The visit to the Liberty Bell was awesome!! Th...     0.9409\n",
      "5  Liberty Bell  When I came, it was not super busy during a Th...    -0.4847\n",
      "6  Liberty Bell  I got through security really quickly, and the...     0.3400\n",
      "7  Liberty Bell  The Liberty Bell is definitely a must-see and ...     0.8516\n",
      "8  Liberty Bell  Would be better if it was outside. Its a liter...     0.7957\n",
      "9  Liberty Bell  Some history about the Bell. You can also see ...    -0.0084\n",
      "\n",
      "This is the median sentiment of Liberty Bell visitors: 0.7928999999999999\n",
      "Remember! Negative numbers correspond with negative reviews, numbers closer to 1 correspond with positive reviews and 0 stands for neutral positions.\n"
     ]
    }
   ],
   "source": [
    "import pandas as pd\n",
    "\n",
    "# Step 1 - Create data (real reviews taken from Google)\n",
    "data = {\n",
    "    \"landmark\": [\n",
    "        \"Liberty Bell\",\n",
    "        \"Liberty Bell\",\n",
    "        \"Liberty Bell\",\n",
    "        \"Liberty Bell\",\n",
    "        \"Liberty Bell\",\n",
    "        \"Liberty Bell\",\n",
    "        \"Liberty Bell\",\n",
    "        \"Liberty Bell\",\n",
    "        \"Liberty Bell\",\n",
    "        \"Liberty Bell\",\n",
    "    \n",
    "    ],\n",
    "    \"comment\": [\n",
    "        \"I loved visiting the Liberty Bell. It is free to view, just have to stand in a line that moved pretty quickly and then you will find yourself in a small museum that shares some history about the bell and showcases some smaller artifacts.\",\n",
    "        \"After walking through the short gallery, you will come upon a beautiful room that features the Liberty Bell framed with a tall glass wall and an unobstructed view of Liberty Hall.\",\n",
    "        \"The staff was friendly and the process was seamless. You can walk all the way around the bell to take in every detail.\",\n",
    "        \"One thing to note is that, though, the bell is free to view anytime, you will need to purchase an advance ticket to tour the inside of Liberty Hall across the street!\",\n",
    "        \"The visit to the Liberty Bell was awesome!! There was barely any waiting time!! It was very impressive to see it in real life. I would recommend this place to anyone who goes to Philadelphia for either week or weekends!!\",\n",
    "        \"When I came, it was not super busy during a Thursday midday.\",\n",
    "        \"I got through security really quickly, and then to see the actual bell, there was not a long line.\",\n",
    "        \"The Liberty Bell is definitely a must-see and is very nicely preserved.\",\n",
    "        \"Would be better if it was outside. Its a literal tourist trap. Cant really get too close to look at it without interrupting someones photo. The idea of it is nice. The history is nice. Its just too crowded.\",\n",
    "        \"Some history about the Bell. You can also see it from outside through the window. Free. You need to go through security so no big bags, no food, etc. Usually, there is a line outside so consider the wheather.\",\n",
    "    ],\n",
    "}\n",
    "\n",
    "# Save as a CSV file\n",
    "df = pd.DataFrame(data)\n",
    "df.to_csv(\"landmark_comments.csv\", index=False)\n",
    "\n",
    "print(\"CSV file 'landmark_comments.csv' created!\")\n",
    "\n",
    "\n",
    "import pandas as pd\n",
    "\n",
    "# Load the CSV file\n",
    "df = pd.read_csv(\"landmark_comments.csv\")\n",
    "\n",
    "# Display the data\n",
    "print(\"\\nLandmark Comments Data:\") # We have had this problem before... we can't see the entire comment. \n",
    "print(df)\n",
    "\n",
    "# Step 2 - Sentiment Analysis \n",
    "\n",
    "from nltk.sentiment import SentimentIntensityAnalyzer\n",
    "\n",
    "sia = SentimentIntensityAnalyzer()\n",
    "\n",
    "# Analyze sentiment for each review\n",
    "df[\"sentiment\"] = df[\"comment\"].apply(lambda x: sia.polarity_scores(x)[\"compound\"])\n",
    "\n",
    "# Display results\n",
    "print(\"\\nSentiment Analysis Results:\")\n",
    "print(df)\n",
    "\n",
    "median_sentiment = df[\"sentiment\"].median()\n",
    "print(\"\\nThis is the median sentiment of Liberty Bell visitors:\", median_sentiment) \n",
    "print(\"Remember! Negative numbers correspond with negative reviews, numbers closer to 1 correspond with positive reviews and 0 stands for neutral positions.\")"
   ]
  }
 ],
 "metadata": {
  "kernelspec": {
   "display_name": "Python 3",
   "language": "python",
   "name": "python3"
  },
  "language_info": {
   "codemirror_mode": {
    "name": "ipython",
    "version": 3
   },
   "file_extension": ".py",
   "mimetype": "text/x-python",
   "name": "python",
   "nbconvert_exporter": "python",
   "pygments_lexer": "ipython3",
   "version": "3.12.6"
  }
 },
 "nbformat": 4,
 "nbformat_minor": 2
}
